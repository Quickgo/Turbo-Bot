{
 "cells": [
  {
   "cell_type": "code",
   "execution_count": 1,
   "metadata": {},
   "outputs": [
    {
     "name": "stderr",
     "output_type": "stream",
     "text": [
      "2024-04-03 08:04:06.174361: I tensorflow/tsl/cuda/cudart_stub.cc:28] Could not find cuda drivers on your machine, GPU will not be used.\n",
      "2024-04-03 08:04:06.218537: I tensorflow/tsl/cuda/cudart_stub.cc:28] Could not find cuda drivers on your machine, GPU will not be used.\n",
      "2024-04-03 08:04:06.219232: I tensorflow/core/platform/cpu_feature_guard.cc:182] This TensorFlow binary is optimized to use available CPU instructions in performance-critical operations.\n",
      "To enable the following instructions: AVX2 FMA, in other operations, rebuild TensorFlow with the appropriate compiler flags.\n",
      "2024-04-03 08:04:07.292815: W tensorflow/compiler/tf2tensorrt/utils/py_utils.cc:38] TF-TRT Warning: Could not find TensorRT\n"
     ]
    }
   ],
   "source": [
    "import numpy as np\n",
    "import pandas as pd\n",
    "import tensorflow as tf\n",
    "tf.get_logger().setLevel('ERROR')\n",
    "for gpu in tf.config.experimental.list_physical_devices('GPU'):\n",
    "    tf.config.experimental.set_memory_growth(gpu, True)\n",
    "\n",
    "from keras import layers, models\n",
    "\n",
    "from ConvertCSV import DataReady\n",
    "from FinRockDataFeeder import PdDataFeeder\n",
    "from FinRockTradingEnv import TradingEnv, ActionSpace\n",
    "from FinRockScaler import ZScoreScaler\n",
    "from FinRockReward import AccountValueChangeReward\n",
    "from FinRockMetrics import DifferentActions, AccountValue, MaxDrawdown, SharpeRatio\n",
    "from Indicators import BolingerBands, RSI, PSAR, SMA, MACD\n",
    "\n",
    "from rockrl.utils.misc import MeanAverage\n",
    "from rockrl.utils.memory import MemoryManager\n",
    "from rockrl.tensorflow import PPOAgent\n",
    "from rockrl.utils.vectorizedEnv import VectorizedEnv"
   ]
  },
  {
   "cell_type": "code",
   "execution_count": 2,
   "metadata": {},
   "outputs": [
    {
     "name": "stdout",
     "output_type": "stream",
     "text": [
      "                timestamp    open    high     low   close   volume\n",
      "0     2024-03-11 02:00:00  13.190  13.233  13.179  13.219  10036.8\n",
      "1     2024-03-11 02:05:00  13.219  13.276  13.217  13.243  20072.7\n",
      "2     2024-03-11 02:10:00  13.243  13.262  13.201  13.262   8939.3\n",
      "3     2024-03-11 02:15:00  13.262  13.264  13.203  13.205   9896.9\n",
      "4     2024-03-11 02:20:00  13.205  13.209  13.150  13.167   8269.5\n",
      "...                   ...     ...     ...     ...     ...      ...\n",
      "6529  2024-04-02 19:05:00  10.943  11.030  10.931  11.013  22089.6\n",
      "6530  2024-04-02 19:10:00  11.013  11.031  10.992  11.031  16393.6\n",
      "6531  2024-04-02 19:15:00  11.031  11.031  10.950  10.976  10379.1\n",
      "6532  2024-04-02 19:20:00  10.976  10.976  10.920  10.959  12796.1\n",
      "6533  2024-04-02 19:25:00  10.959  10.959  10.939  10.949   2230.7\n",
      "\n",
      "[6534 rows x 6 columns]\n"
     ]
    }
   ],
   "source": [
    "df = pd.read_csv(\"/home/zymantas/Desktop/Training_data/5minData/ATOMUSDT5min.csv\")\n",
    "\n",
    "DataReady(df)\n",
    "\n",
    "df = df[:-1000] # leave 1000 for testing"
   ]
  },
  {
   "cell_type": "code",
   "execution_count": 3,
   "metadata": {},
   "outputs": [],
   "source": [
    "pd_data_feeder = PdDataFeeder(\n",
    "    df,\n",
    "    indicators = [\n",
    "        BolingerBands(data=df, period=20, std=2),\n",
    "        RSI(data=df, period=14),\n",
    "        PSAR(data=df),\n",
    "        MACD(data=df),\n",
    "        SMA(data=df, period=7),\n",
    "    ]\n",
    ")"
   ]
  },
  {
   "cell_type": "code",
   "execution_count": 4,
   "metadata": {},
   "outputs": [],
   "source": [
    "num_envs = 10\n",
    "env = VectorizedEnv(\n",
    "    env_object = TradingEnv,\n",
    "    num_envs = num_envs,\n",
    "    data_feeder = pd_data_feeder,\n",
    "    output_transformer = ZScoreScaler(),\n",
    "    initial_balance = 1000.0,\n",
    "    max_episode_steps = 1000,\n",
    "    window_size = 50,\n",
    "    reward_function = AccountValueChangeReward(),\n",
    "    action_space = ActionSpace.CONTINUOUS,\n",
    "    metrics = [\n",
    "        DifferentActions(),\n",
    "        AccountValue(),\n",
    "        MaxDrawdown(),\n",
    "    ]\n",
    ")\n",
    "\n",
    "action_space = env.action_space\n",
    "input_shape = env.observation_space.shape"
   ]
  },
  {
   "cell_type": "code",
   "execution_count": 5,
   "metadata": {},
   "outputs": [
    {
     "name": "stdout",
     "output_type": "stream",
     "text": [
      "Failed to save config to file\n"
     ]
    }
   ],
   "source": [
    "def actor_model(input_shape, action_space):\n",
    "    input = layers.Input(shape=input_shape, dtype=tf.float32)\n",
    "    x = layers.Flatten()(input)\n",
    "    x = layers.Dense(512, activation='elu')(x)\n",
    "    x = layers.Dense(256, activation='elu')(x)\n",
    "    x = layers.Dense(64, activation='elu')(x)\n",
    "    x = layers.Dropout(0.2)(x)\n",
    "    action = layers.Dense(action_space, activation=\"tanh\")(x)\n",
    "    sigma = layers.Dense(action_space)(x)\n",
    "    sigma = layers.Dense(1, activation='sigmoid')(sigma)\n",
    "    output = layers.concatenate([action, sigma]) # continuous action space\n",
    "    return models.Model(inputs=input, outputs=output)\n",
    "\n",
    "def critic_model(input_shape):\n",
    "    input = layers.Input(shape=input_shape, dtype=tf.float32)\n",
    "    x = layers.Flatten()(input)\n",
    "    x = layers.Dense(512, activation='elu')(x)\n",
    "    x = layers.Dense(256, activation='elu')(x)\n",
    "    x = layers.Dense(64, activation='elu')(x)\n",
    "    x = layers.Dropout(0.2)(x)\n",
    "    output = layers.Dense(1, activation=None)(x)\n",
    "    return models.Model(inputs=input, outputs=output)\n",
    "\n",
    "\n",
    "agent = PPOAgent(\n",
    "    actor = actor_model(input_shape, action_space),\n",
    "    critic = critic_model(input_shape),\n",
    "    optimizer=tf.keras.optimizers.Adam(learning_rate=0.00005),\n",
    "    batch_size=128,\n",
    "    lamda=0.95,\n",
    "    kl_coeff=0.5,\n",
    "    c2=0.01,\n",
    "    writer_comment='ppo_sinusoid',\n",
    "    action_space=\"continuous\",\n",
    ")\n",
    "pd_data_feeder.save_config(agent.logdir)\n",
    "env.env.save_config(agent.logdir)"
   ]
  },
  {
   "cell_type": "code",
   "execution_count": 6,
   "metadata": {},
   "outputs": [
    {
     "name": "stdout",
     "output_type": "stream",
     "text": [
      "1 -0.004384427442823635 -0.004384427442823635 993.5058660373886 0.47585535\n",
      "2 -0.016554312786515972 -0.010469370114669804 981.3367469436496 0.4507783\n",
      "3 0.007013673151919041 -0.004641689025806855 1004.9443111603944 0.43849286\n",
      "4 -0.07257887777067439 -0.02162598621202374 927.6663340156654 0.43192577\n",
      "5 -0.05110487861864464 -0.027521764693347918 948.2513135482995 0.41806927\n",
      "6 -0.0056696171654057395 -0.023879740105357553 992.3276692400724 0.43470556\n",
      "7 0.0050238260730619926 -0.019750659222726192 1003.0871878400271 0.42156616\n",
      "8 -0.01799760052461267 -0.019531526885462003 979.7083838197415 0.42614332\n",
      "9 0.0015619255237801326 -0.017187809951101765 999.7398497182492 0.41109324\n",
      "10 -0.07723196162169456 -0.023192225118161047 923.48336106292 0.44688314\n",
      "11 -0.10580866199758213 -0.030702810289017505 897.5005796009834 0.3340033\n",
      "12 -0.07041825190663145 -0.034012430423818664 929.8987532729063 0.36458513\n",
      "13 -0.08377531743664132 -0.03784034480942041 917.068395122879 0.3444623\n",
      "14 -0.0775047680448277 -0.04067351789766379 923.4562712830065 0.3938994\n",
      "15 -0.08675516317564355 -0.04374562758286245 914.2221575231044 0.3345031\n",
      "16 -0.08657951613591408 -0.046422745617428166 915.0820928861681 0.3289093\n",
      "17 0.007199651219377531 -0.04326848697996901 1004.70119655298 0.32806414\n",
      "18 -0.09521142923120819 -0.04615420599392674 906.4577119359703 0.35727483\n",
      "19 -0.1522281956997393 -0.05173704755739056 856.7250607759254 0.3701681\n",
      "20 -0.13680043736764783 -0.055990217047903426 870.1791314782527 0.37041292\n"
     ]
    }
   ],
   "source": [
    "memory = MemoryManager(num_envs=num_envs)\n",
    "meanAverage = MeanAverage(best_mean_score_episode=1000)\n",
    "states, infos = env.reset()\n",
    "rewards = 0.0\n",
    "while True:\n",
    "    action, prob = agent.act(states)\n",
    "\n",
    "    next_states, reward, terminated, truncated, infos = env.step(action)\n",
    "    memory.append(states, action, reward, prob, terminated, truncated, next_states, infos)\n",
    "    states = next_states\n",
    "\n",
    "    for index in memory.done_indices():\n",
    "        env_memory = memory[index]\n",
    "        history = agent.train(env_memory)\n",
    "        mean_reward = meanAverage(np.sum(env_memory.rewards))\n",
    "\n",
    "        if meanAverage.is_best(agent.epoch):\n",
    "            agent.save_models('ppo_sinusoid')\n",
    "\n",
    "        if history['kl_div'] > 0.2 and agent.epoch > 1000:\n",
    "            agent.reduce_learning_rate(0.995, verbose=False)\n",
    "\n",
    "        info = env_memory.infos[-1]\n",
    "        print(agent.epoch, np.sum(env_memory.rewards), mean_reward, info[\"metrics\"]['account_value'], history['kl_div'])\n",
    "        agent.log_to_writer(info['metrics'])\n",
    "        states[index], infos[index] = env.reset(index=index)\n",
    "\n",
    "    if agent.epoch >= 20000:\n",
    "        break\n",
    "\n",
    "env.close()\n",
    "exit()"
   ]
  }
 ],
 "metadata": {
  "kernelspec": {
   "display_name": "Python 3",
   "language": "python",
   "name": "python3"
  },
  "language_info": {
   "codemirror_mode": {
    "name": "ipython",
    "version": 3
   },
   "file_extension": ".py",
   "mimetype": "text/x-python",
   "name": "python",
   "nbconvert_exporter": "python",
   "pygments_lexer": "ipython3",
   "version": "3.10.12"
  }
 },
 "nbformat": 4,
 "nbformat_minor": 2
}
