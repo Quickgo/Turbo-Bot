{
 "cells": [
  {
   "cell_type": "code",
   "execution_count": 1,
   "metadata": {},
   "outputs": [
    {
     "name": "stderr",
     "output_type": "stream",
     "text": [
      "/usr/lib/python3/dist-packages/tqdm/auto.py:22: TqdmWarning: IProgress not found. Please update jupyter and ipywidgets. See https://ipywidgets.readthedocs.io/en/stable/user_install.html\n",
      "  from .autonotebook import tqdm as notebook_tqdm\n"
     ]
    }
   ],
   "source": [
    "import numpy as np\n",
    "import pandas as pd\n",
    "import backtesting\n",
    "from backtesting.test import SMA\n",
    "\n",
    "from ConvertCSV import DataReady"
   ]
  },
  {
   "cell_type": "code",
   "execution_count": 2,
   "metadata": {},
   "outputs": [
    {
     "data": {
      "text/html": [
       "<div>\n",
       "<style scoped>\n",
       "    .dataframe tbody tr th:only-of-type {\n",
       "        vertical-align: middle;\n",
       "    }\n",
       "\n",
       "    .dataframe tbody tr th {\n",
       "        vertical-align: top;\n",
       "    }\n",
       "\n",
       "    .dataframe thead th {\n",
       "        text-align: right;\n",
       "    }\n",
       "</style>\n",
       "<table border=\"1\" class=\"dataframe\">\n",
       "  <thead>\n",
       "    <tr style=\"text-align: right;\">\n",
       "      <th></th>\n",
       "      <th>Open</th>\n",
       "      <th>High</th>\n",
       "      <th>Low</th>\n",
       "      <th>Close</th>\n",
       "      <th>Volume</th>\n",
       "    </tr>\n",
       "    <tr>\n",
       "      <th>datetime</th>\n",
       "      <th></th>\n",
       "      <th></th>\n",
       "      <th></th>\n",
       "      <th></th>\n",
       "      <th></th>\n",
       "    </tr>\n",
       "  </thead>\n",
       "  <tbody>\n",
       "    <tr>\n",
       "      <th>2024-03-11 02:00:00</th>\n",
       "      <td>13.190</td>\n",
       "      <td>13.233</td>\n",
       "      <td>13.179</td>\n",
       "      <td>13.219</td>\n",
       "      <td>10036.8</td>\n",
       "    </tr>\n",
       "    <tr>\n",
       "      <th>2024-03-11 02:05:00</th>\n",
       "      <td>13.219</td>\n",
       "      <td>13.276</td>\n",
       "      <td>13.217</td>\n",
       "      <td>13.243</td>\n",
       "      <td>20072.7</td>\n",
       "    </tr>\n",
       "    <tr>\n",
       "      <th>2024-03-11 02:10:00</th>\n",
       "      <td>13.243</td>\n",
       "      <td>13.262</td>\n",
       "      <td>13.201</td>\n",
       "      <td>13.262</td>\n",
       "      <td>8939.3</td>\n",
       "    </tr>\n",
       "    <tr>\n",
       "      <th>2024-03-11 02:15:00</th>\n",
       "      <td>13.262</td>\n",
       "      <td>13.264</td>\n",
       "      <td>13.203</td>\n",
       "      <td>13.205</td>\n",
       "      <td>9896.9</td>\n",
       "    </tr>\n",
       "    <tr>\n",
       "      <th>2024-03-11 02:20:00</th>\n",
       "      <td>13.205</td>\n",
       "      <td>13.209</td>\n",
       "      <td>13.150</td>\n",
       "      <td>13.167</td>\n",
       "      <td>8269.5</td>\n",
       "    </tr>\n",
       "    <tr>\n",
       "      <th>...</th>\n",
       "      <td>...</td>\n",
       "      <td>...</td>\n",
       "      <td>...</td>\n",
       "      <td>...</td>\n",
       "      <td>...</td>\n",
       "    </tr>\n",
       "    <tr>\n",
       "      <th>2024-04-02 19:05:00</th>\n",
       "      <td>10.943</td>\n",
       "      <td>11.030</td>\n",
       "      <td>10.931</td>\n",
       "      <td>11.013</td>\n",
       "      <td>22089.6</td>\n",
       "    </tr>\n",
       "    <tr>\n",
       "      <th>2024-04-02 19:10:00</th>\n",
       "      <td>11.013</td>\n",
       "      <td>11.031</td>\n",
       "      <td>10.992</td>\n",
       "      <td>11.031</td>\n",
       "      <td>16393.6</td>\n",
       "    </tr>\n",
       "    <tr>\n",
       "      <th>2024-04-02 19:15:00</th>\n",
       "      <td>11.031</td>\n",
       "      <td>11.031</td>\n",
       "      <td>10.950</td>\n",
       "      <td>10.976</td>\n",
       "      <td>10379.1</td>\n",
       "    </tr>\n",
       "    <tr>\n",
       "      <th>2024-04-02 19:20:00</th>\n",
       "      <td>10.976</td>\n",
       "      <td>10.976</td>\n",
       "      <td>10.920</td>\n",
       "      <td>10.959</td>\n",
       "      <td>12796.1</td>\n",
       "    </tr>\n",
       "    <tr>\n",
       "      <th>2024-04-02 19:25:00</th>\n",
       "      <td>10.959</td>\n",
       "      <td>10.959</td>\n",
       "      <td>10.939</td>\n",
       "      <td>10.949</td>\n",
       "      <td>2230.7</td>\n",
       "    </tr>\n",
       "  </tbody>\n",
       "</table>\n",
       "<p>6534 rows × 5 columns</p>\n",
       "</div>"
      ],
      "text/plain": [
       "                       Open    High     Low   Close   Volume\n",
       "datetime                                                    \n",
       "2024-03-11 02:00:00  13.190  13.233  13.179  13.219  10036.8\n",
       "2024-03-11 02:05:00  13.219  13.276  13.217  13.243  20072.7\n",
       "2024-03-11 02:10:00  13.243  13.262  13.201  13.262   8939.3\n",
       "2024-03-11 02:15:00  13.262  13.264  13.203  13.205   9896.9\n",
       "2024-03-11 02:20:00  13.205  13.209  13.150  13.167   8269.5\n",
       "...                     ...     ...     ...     ...      ...\n",
       "2024-04-02 19:05:00  10.943  11.030  10.931  11.013  22089.6\n",
       "2024-04-02 19:10:00  11.013  11.031  10.992  11.031  16393.6\n",
       "2024-04-02 19:15:00  11.031  11.031  10.950  10.976  10379.1\n",
       "2024-04-02 19:20:00  10.976  10.976  10.920  10.959  12796.1\n",
       "2024-04-02 19:25:00  10.959  10.959  10.939  10.949   2230.7\n",
       "\n",
       "[6534 rows x 5 columns]"
      ]
     },
     "execution_count": 2,
     "metadata": {},
     "output_type": "execute_result"
    }
   ],
   "source": [
    "data = pd.read_csv(\"/home/porsche/Desktop/Training_data/5minData/ATOMUSDT5min.csv\")\n",
    "\n",
    "DataReady(data)"
   ]
  },
  {
   "cell_type": "code",
   "execution_count": 3,
   "metadata": {},
   "outputs": [],
   "source": [
    "def BBANDS(data, n_lookback, n_std):\n",
    "    \"\"\"Bollinger bands indicator\"\"\"\n",
    "    hlc3 = (data.High + data.Low + data.Close) / 3\n",
    "    mean, std = hlc3.rolling(n_lookback).mean(), hlc3.rolling(n_lookback).std()\n",
    "    upper = mean + n_std*std\n",
    "    lower = mean - n_std*std\n",
    "    return upper, lower\n",
    "\n",
    "\n",
    "close = data.Close.values\n",
    "sma10 = SMA(data.Close, 10)\n",
    "sma20 = SMA(data.Close, 20)\n",
    "sma50 = SMA(data.Close, 50)\n",
    "sma100 = SMA(data.Close, 100)\n",
    "upper, lower = BBANDS(data, 20, 2)\n",
    "\n",
    "# Design matrix / independent features:\n",
    "\n",
    "# Price-derived features\n",
    "data['X_SMA10'] = (close - sma10) / close\n",
    "data['X_SMA20'] = (close - sma20) / close\n",
    "data['X_SMA50'] = (close - sma50) / close\n",
    "data['X_SMA100'] = (close - sma100) / close\n",
    "\n",
    "data['X_DELTA_SMA10'] = (sma10 - sma20) / close\n",
    "data['X_DELTA_SMA20'] = (sma20 - sma50) / close\n",
    "data['X_DELTA_SMA50'] = (sma50 - sma100) / close\n",
    "\n",
    "# Indicator features\n",
    "data['X_MOM'] = data.Close.pct_change(periods=2)\n",
    "data['X_BB_upper'] = (upper - close) / close\n",
    "data['X_BB_lower'] = (lower - close) / close\n",
    "data['X_BB_width'] = (upper - lower) / close\n",
    "data['X_Sentiment'] = ~data.index.to_series().between('2017-09-27', '2017-12-14')\n",
    "\n",
    "# Some datetime features for good measure\n",
    "data['X_day'] = data.index.dayofweek\n",
    "data['X_hour'] = data.index.hour\n",
    "\n",
    "data = data.dropna().astype(float)"
   ]
  },
  {
   "cell_type": "code",
   "execution_count": 4,
   "metadata": {},
   "outputs": [],
   "source": [
    "def get_X(data):\n",
    "    \"\"\"Return model design matrix X\"\"\"\n",
    "    return data.filter(like='X').values\n",
    "\n",
    "\n",
    "def get_y(data):\n",
    "    \"\"\"Return dependent variable y\"\"\"\n",
    "    y = data.Close.pct_change(48).shift(-48)  # Returns after roughly two days\n",
    "    y[y.between(-.004, .004)] = 0             # Devalue returns smaller than 0.4%\n",
    "    y[y > 0] = 1\n",
    "    y[y < 0] = -1\n",
    "    return y\n",
    "\n",
    "\n",
    "def get_clean_Xy(df):\n",
    "    \"\"\"Return (X, y) cleaned of NaN values\"\"\"\n",
    "    X = get_X(df)\n",
    "    y = get_y(df).values\n",
    "    isnan = np.isnan(y)\n",
    "    X = X[~isnan]\n",
    "    y = y[~isnan]\n",
    "    return X, y"
   ]
  },
  {
   "cell_type": "code",
   "execution_count": 5,
   "metadata": {},
   "outputs": [
    {
     "name": "stdout",
     "output_type": "stream",
     "text": [
      "Classification accuracy:  0.7125860989355041\n"
     ]
    },
    {
     "data": {
      "image/png": "[encoded data removed]",
      "text/plain": [
       "<Figure size 1500x200 with 1 Axes>"
      ]
     },
     "metadata": {},
     "output_type": "display_data"
    }
   ],
   "source": [
    "import sklearn\n",
    "from sklearn.neighbors import KNeighborsClassifier\n",
    "from sklearn.model_selection import train_test_split\n",
    "\n",
    "X, y = get_clean_Xy(data)\n",
    "X_train, X_test, y_train, y_test = train_test_split(X, y, test_size=.5, random_state=0)\n",
    "\n",
    "clf = KNeighborsClassifier(7)  # Model the output based on 7 \"nearest\" examples\n",
    "clf.fit(X_train, y_train)\n",
    "\n",
    "y_pred = clf.predict(X_test)\n",
    "\n",
    "_ = pd.DataFrame({'y_true': y_test, 'y_pred': y_pred}).plot(figsize=(15, 2), alpha=.7)\n",
    "print('Classification accuracy: ', np.mean(y_test == y_pred))"
   ]
  },
  {
   "cell_type": "code",
   "execution_count": 6,
   "metadata": {},
   "outputs": [
    {
     "name": "stdout",
     "output_type": "stream",
     "text": [
      "CPU times: user 8.36 s, sys: 11.1 ms, total: 8.37 s\n",
      "Wall time: 8.37 s\n"
     ]
    },
    {
     "data": {
      "text/plain": [
       "Start                     2024-03-11 10:15:00\n",
       "End                       2024-04-02 19:25:00\n",
       "Duration                     22 days 09:10:00\n",
       "Exposure Time [%]                   67.909868\n",
       "Equity Final [$]                  3958.248251\n",
       "Equity Peak [$]                  13508.169774\n",
       "Return [%]                         -60.417517\n",
       "Buy & Hold Return [%]              -19.350324\n",
       "Return (Ann.) [%]                  -99.999959\n",
       "Volatility (Ann.) [%]                0.000838\n",
       "Sharpe Ratio                              0.0\n",
       "Sortino Ratio                             0.0\n",
       "Calmar Ratio                              0.0\n",
       "Max. Drawdown [%]                   -73.67412\n",
       "Avg. Drawdown [%]                   -6.436985\n",
       "Max. Drawdown Duration       19 days 02:00:00\n",
       "Avg. Drawdown Duration        0 days 23:54:00\n",
       "# Trades                                 1491\n",
       "Win Rate [%]                        50.771294\n",
       "Best Trade [%]                       0.380076\n",
       "Worst Trade [%]                     -0.420084\n",
       "Avg. Trade [%]                      -0.013892\n",
       "Max. Trade Duration           0 days 02:35:00\n",
       "Avg. Trade Duration           0 days 00:11:00\n",
       "Profit Factor                        0.934757\n",
       "Expectancy [%]                      -0.013119\n",
       "SQN                                 -1.384389\n",
       "_strategy                 MLTrainOnceStrategy\n",
       "_equity_curve                             ...\n",
       "_trades                         Size  Entr...\n",
       "dtype: object"
      ]
     },
     "execution_count": 6,
     "metadata": {},
     "output_type": "execute_result"
    }
   ],
   "source": [
    "%%time\n",
    "\n",
    "from backtesting import Backtest, Strategy\n",
    "\n",
    "N_TRAIN = 400\n",
    "\n",
    "\n",
    "class MLTrainOnceStrategy(Strategy):\n",
    "    price_delta = .004  # 0.4%\n",
    "\n",
    "    def init(self):        \n",
    "        # Init our model, a kNN classifier\n",
    "        self.clf = KNeighborsClassifier(7)\n",
    "\n",
    "        # Train the classifier in advance on the first N_TRAIN examples\n",
    "        df = self.data.df.iloc[:N_TRAIN]\n",
    "        X, y = get_clean_Xy(df)\n",
    "        self.clf.fit(X, y)\n",
    "\n",
    "        # Plot y for inspection\n",
    "        self.I(get_y, self.data.df, name='y_true')\n",
    "\n",
    "        # Prepare empty, all-NaN forecast indicator\n",
    "        self.forecasts = self.I(lambda: np.repeat(np.nan, len(self.data)), name='forecast')\n",
    "\n",
    "    def next(self):\n",
    "        # Skip the training, in-sample data\n",
    "        if len(self.data) < N_TRAIN:\n",
    "            return\n",
    "\n",
    "        # Proceed only with out-of-sample data. Prepare some variables\n",
    "        high, low, close = self.data.High, self.data.Low, self.data.Close\n",
    "        current_time = self.data.index[-1]\n",
    "\n",
    "        # Forecast the next movement\n",
    "        X = get_X(self.data.df.iloc[-1:])\n",
    "        forecast = self.clf.predict(X)[0]\n",
    "\n",
    "        # Update the plotted \"forecast\" indicator\n",
    "        self.forecasts[-1] = forecast\n",
    "\n",
    "        # If our forecast is upwards and we don't already hold a long position\n",
    "        # place a long order for 20% of available account equity. Vice versa for short.\n",
    "        # Also set target take-profit and stop-loss prices to be one price_delta\n",
    "        # away from the current closing price.\n",
    "        upper, lower = close[-1] * (1 + np.r_[1, -1]*self.price_delta)\n",
    "\n",
    "        if forecast == 1 and not self.position.is_long:\n",
    "            self.buy(size=.2, tp=upper, sl=lower)\n",
    "        elif forecast == -1 and not self.position.is_short:\n",
    "            self.sell(size=.2, tp=lower, sl=upper)\n",
    "\n",
    "        # Additionally, set aggressive stop-loss on trades that have been open \n",
    "        # for more than two days\n",
    "        for trade in self.trades:\n",
    "            if current_time - trade.entry_time > pd.Timedelta('2 days'):\n",
    "                if trade.is_long:\n",
    "                    trade.sl = max(trade.sl, low)\n",
    "                else:\n",
    "                    trade.sl = min(trade.sl, high)\n",
    "\n",
    "\n",
    "bt = Backtest(data, MLTrainOnceStrategy, commission=.0002, margin=.05)\n",
    "bt.run()"
   ]
  },
  {
   "cell_type": "code",
   "execution_count": 7,
   "metadata": {},
   "outputs": [
    {
     "name": "stderr",
     "output_type": "stream",
     "text": [
      "BokehDeprecationWarning: Passing lists of formats for DatetimeTickFormatter scales was deprecated in Bokeh 3.0. Configure a single string format for each scale\n",
      "/home/porsche/.local/lib/python3.11/site-packages/backtesting/_plotting.py:250: UserWarning: DatetimeFormatter scales now only accept a single format. Using the first provided: '%d %b'\n",
      "  formatter=DatetimeTickFormatter(days=['%d %b', '%a %d'],\n",
      "BokehDeprecationWarning: Passing lists of formats for DatetimeTickFormatter scales was deprecated in Bokeh 3.0. Configure a single string format for each scale\n",
      "/home/porsche/.local/lib/python3.11/site-packages/backtesting/_plotting.py:250: UserWarning: DatetimeFormatter scales now only accept a single format. Using the first provided: '%m/%Y'\n",
      "  formatter=DatetimeTickFormatter(days=['%d %b', '%a %d'],\n",
      "/home/porsche/.local/lib/python3.11/site-packages/backtesting/_plotting.py:659: UserWarning: found multiple competing values for 'toolbar.active_drag' property; using the latest value\n",
      "  fig = gridplot(\n",
      "/home/porsche/.local/lib/python3.11/site-packages/backtesting/_plotting.py:659: UserWarning: found multiple competing values for 'toolbar.active_scroll' property; using the latest value\n",
      "  fig = gridplot(\n"
     ]
    },
    {
     "data": {
      "text/html": [
       "<div style=\"display: table;\"><div style=\"display: table-row;\"><div style=\"display: table-cell;\"><b title=\"bokeh.models.plots.GridPlot\">GridPlot</b>(</div><div style=\"display: table-cell;\">id&nbsp;=&nbsp;'p1396', <span id=\"p1427\" style=\"cursor: pointer;\">&hellip;)</span></div></div><div class=\"p1426\" style=\"display: none;\"><div style=\"display: table-cell;\"></div><div style=\"display: table-cell;\">align&nbsp;=&nbsp;'auto',</div></div><div class=\"p1426\" style=\"display: none;\"><div style=\"display: table-cell;\"></div><div style=\"display: table-cell;\">aspect_ratio&nbsp;=&nbsp;None,</div></div><div class=\"p1426\" style=\"display: none;\"><div style=\"display: table-cell;\"></div><div style=\"display: table-cell;\">children&nbsp;=&nbsp;[(figure(id='p1046', ...), 0, 0), (figure(id='p1143', ...), 1, 0), (figure(id='p1002', ...), 2, 0), (figure(id='p1198', ...), 3, 0), (figure(id='p1293', ...), 4, 0), (figure(id='p1339', ...), 5, 0)],</div></div><div class=\"p1426\" style=\"display: none;\"><div style=\"display: table-cell;\"></div><div style=\"display: table-cell;\">cols&nbsp;=&nbsp;None,</div></div><div class=\"p1426\" style=\"display: none;\"><div style=\"display: table-cell;\"></div><div style=\"display: table-cell;\">context_menu&nbsp;=&nbsp;None,</div></div><div class=\"p1426\" style=\"display: none;\"><div style=\"display: table-cell;\"></div><div style=\"display: table-cell;\">css_classes&nbsp;=&nbsp;[],</div></div><div class=\"p1426\" style=\"display: none;\"><div style=\"display: table-cell;\"></div><div style=\"display: table-cell;\">css_variables&nbsp;=&nbsp;{},</div></div><div class=\"p1426\" style=\"display: none;\"><div style=\"display: table-cell;\"></div><div style=\"display: table-cell;\">disabled&nbsp;=&nbsp;False,</div></div><div class=\"p1426\" style=\"display: none;\"><div style=\"display: table-cell;\"></div><div style=\"display: table-cell;\">elements&nbsp;=&nbsp;[],</div></div><div class=\"p1426\" style=\"display: none;\"><div style=\"display: table-cell;\"></div><div style=\"display: table-cell;\">flow_mode&nbsp;=&nbsp;'block',</div></div><div class=\"p1426\" style=\"display: none;\"><div style=\"display: table-cell;\"></div><div style=\"display: table-cell;\">height&nbsp;=&nbsp;None,</div></div><div class=\"p1426\" style=\"display: none;\"><div style=\"display: table-cell;\"></div><div style=\"display: table-cell;\">height_policy&nbsp;=&nbsp;'auto',</div></div><div class=\"p1426\" style=\"display: none;\"><div style=\"display: table-cell;\"></div><div style=\"display: table-cell;\">js_event_callbacks&nbsp;=&nbsp;{},</div></div><div class=\"p1426\" style=\"display: none;\"><div style=\"display: table-cell;\"></div><div style=\"display: table-cell;\">js_property_callbacks&nbsp;=&nbsp;{},</div></div><div class=\"p1426\" style=\"display: none;\"><div style=\"display: table-cell;\"></div><div style=\"display: table-cell;\">margin&nbsp;=&nbsp;None,</div></div><div class=\"p1426\" style=\"display: none;\"><div style=\"display: table-cell;\"></div><div style=\"display: table-cell;\">max_height&nbsp;=&nbsp;None,</div></div><div class=\"p1426\" style=\"display: none;\"><div style=\"display: table-cell;\"></div><div style=\"display: table-cell;\">max_width&nbsp;=&nbsp;None,</div></div><div class=\"p1426\" style=\"display: none;\"><div style=\"display: table-cell;\"></div><div style=\"display: table-cell;\">min_height&nbsp;=&nbsp;None,</div></div><div class=\"p1426\" style=\"display: none;\"><div style=\"display: table-cell;\"></div><div style=\"display: table-cell;\">min_width&nbsp;=&nbsp;None,</div></div><div class=\"p1426\" style=\"display: none;\"><div style=\"display: table-cell;\"></div><div style=\"display: table-cell;\">name&nbsp;=&nbsp;None,</div></div><div class=\"p1426\" style=\"display: none;\"><div style=\"display: table-cell;\"></div><div style=\"display: table-cell;\">resizable&nbsp;=&nbsp;False,</div></div><div class=\"p1426\" style=\"display: none;\"><div style=\"display: table-cell;\"></div><div style=\"display: table-cell;\">rows&nbsp;=&nbsp;None,</div></div><div class=\"p1426\" style=\"display: none;\"><div style=\"display: table-cell;\"></div><div style=\"display: table-cell;\">sizing_mode&nbsp;=&nbsp;'stretch_width',</div></div><div class=\"p1426\" style=\"display: none;\"><div style=\"display: table-cell;\"></div><div style=\"display: table-cell;\">spacing&nbsp;=&nbsp;0,</div></div><div class=\"p1426\" style=\"display: none;\"><div style=\"display: table-cell;\"></div><div style=\"display: table-cell;\">styles&nbsp;=&nbsp;{},</div></div><div class=\"p1426\" style=\"display: none;\"><div style=\"display: table-cell;\"></div><div style=\"display: table-cell;\">stylesheets&nbsp;=&nbsp;[],</div></div><div class=\"p1426\" style=\"display: none;\"><div style=\"display: table-cell;\"></div><div style=\"display: table-cell;\">subscribed_events&nbsp;=&nbsp;PropertyValueSet(),</div></div><div class=\"p1426\" style=\"display: none;\"><div style=\"display: table-cell;\"></div><div style=\"display: table-cell;\">syncable&nbsp;=&nbsp;True,</div></div><div class=\"p1426\" style=\"display: none;\"><div style=\"display: table-cell;\"></div><div style=\"display: table-cell;\">tags&nbsp;=&nbsp;[],</div></div><div class=\"p1426\" style=\"display: none;\"><div style=\"display: table-cell;\"></div><div style=\"display: table-cell;\">toolbar&nbsp;=&nbsp;Toolbar(id='p1395', ...),</div></div><div class=\"p1426\" style=\"display: none;\"><div style=\"display: table-cell;\"></div><div style=\"display: table-cell;\">toolbar_location&nbsp;=&nbsp;'right',</div></div><div class=\"p1426\" style=\"display: none;\"><div style=\"display: table-cell;\"></div><div style=\"display: table-cell;\">visible&nbsp;=&nbsp;True,</div></div><div class=\"p1426\" style=\"display: none;\"><div style=\"display: table-cell;\"></div><div style=\"display: table-cell;\">width&nbsp;=&nbsp;None,</div></div><div class=\"p1426\" style=\"display: none;\"><div style=\"display: table-cell;\"></div><div style=\"display: table-cell;\">width_policy&nbsp;=&nbsp;'auto')</div></div></div>\n",
       "<script>\n",
       "(function() {\n",
       "  let expanded = false;\n",
       "  const ellipsis = document.getElementById(\"p1427\");\n",
       "  ellipsis.addEventListener(\"click\", function() {\n",
       "    const rows = document.getElementsByClassName(\"p1426\");\n",
       "    for (let i = 0; i < rows.length; i++) {\n",
       "      const el = rows[i];\n",
       "      el.style.display = expanded ? \"none\" : \"table-row\";\n",
       "    }\n",
       "    ellipsis.innerHTML = expanded ? \"&hellip;)\" : \"&lsaquo;&lsaquo;&lsaquo;\";\n",
       "    expanded = !expanded;\n",
       "  });\n",
       "})();\n",
       "</script>\n"
      ],
      "text/plain": [
       "GridPlot(id='p1396', ...)"
      ]
     },
     "execution_count": 7,
     "metadata": {},
     "output_type": "execute_result"
    }
   ],
   "source": [
    "bt.plot() # type: ignore"
   ]
  },
  {
   "cell_type": "code",
   "execution_count": 8,
   "metadata": {},
   "outputs": [
    {
     "name": "stderr",
     "output_type": "stream",
     "text": [
      "/snap/core20/current/lib/x86_64-linux-gnu/libstdc++.so.6: version `GLIBCXX_3.4.29' not found (required by /lib/x86_64-linux-gnu/libproxy.so.1)\n",
      "Failed to load module: /home/porsche/snap/code/common/.cache/gio-modules/libgiolibproxy.so\n"
     ]
    },
    {
     "name": "stdout",
     "output_type": "stream",
     "text": [
      "Opening in existing browser session.\n",
      "CPU times: user 9.66 s, sys: 14.4 ms, total: 9.67 s\n",
      "Wall time: 9.67 s\n"
     ]
    },
    {
     "data": {
      "text/plain": [
       "Start                     2024-03-11 10:15:00\n",
       "End                       2024-04-02 19:25:00\n",
       "Duration                     22 days 09:10:00\n",
       "Exposure Time [%]                   75.229215\n",
       "Equity Final [$]                   690.966474\n",
       "Equity Peak [$]                  11122.288335\n",
       "Return [%]                         -93.090335\n",
       "Buy & Hold Return [%]              -19.350324\n",
       "Return (Ann.) [%]                      -100.0\n",
       "Volatility (Ann.) [%]                     0.0\n",
       "Sharpe Ratio                              0.0\n",
       "Sortino Ratio                             0.0\n",
       "Calmar Ratio                              0.0\n",
       "Max. Drawdown [%]                  -94.860182\n",
       "Avg. Drawdown [%]                  -15.198154\n",
       "Max. Drawdown Duration       19 days 17:25:00\n",
       "Avg. Drawdown Duration        2 days 14:54:00\n",
       "# Trades                                 1624\n",
       "Win Rate [%]                        47.660099\n",
       "Best Trade [%]                       0.380076\n",
       "Worst Trade [%]                     -0.420084\n",
       "Avg. Trade [%]                      -0.039347\n",
       "Max. Trade Duration           0 days 04:15:00\n",
       "Avg. Trade Duration           0 days 00:11:00\n",
       "Profit Factor                        0.821853\n",
       "Expectancy [%]                      -0.038566\n",
       "SQN                                 -3.619088\n",
       "_strategy                 MLWalkForwardStr...\n",
       "_equity_curve                             ...\n",
       "_trades                         Size  Entr...\n",
       "dtype: object"
      ]
     },
     "execution_count": 8,
     "metadata": {},
     "output_type": "execute_result"
    }
   ],
   "source": [
    "%%time\n",
    "\n",
    "class MLWalkForwardStrategy(MLTrainOnceStrategy):\n",
    "    def next(self):\n",
    "        # Skip the cold start period with too few values available\n",
    "        if len(self.data) < N_TRAIN:\n",
    "            return\n",
    "\n",
    "        # Re-train the model only every 20 iterations.\n",
    "        # Since 20 << N_TRAIN, we don't lose much in terms of\n",
    "        # \"recent training examples\", but the speed-up is significant!\n",
    "        if len(self.data) % 20:\n",
    "            return super().next()\n",
    "\n",
    "        # Retrain on last N_TRAIN values\n",
    "        df = self.data.df[-N_TRAIN:]\n",
    "        X, y = get_clean_Xy(df)\n",
    "        self.clf.fit(X, y)\n",
    "\n",
    "        # Now that the model is fitted, \n",
    "        # proceed the same as in MLTrainOnceStrategy\n",
    "        super().next()\n",
    "\n",
    "\n",
    "bt = Backtest(data, MLWalkForwardStrategy, commission=.0002, margin=.05)\n",
    "bt.run()"
   ]
  },
  {
   "cell_type": "code",
   "execution_count": 9,
   "metadata": {},
   "outputs": [
    {
     "name": "stderr",
     "output_type": "stream",
     "text": [
      "BokehDeprecationWarning: Passing lists of formats for DatetimeTickFormatter scales was deprecated in Bokeh 3.0. Configure a single string format for each scale\n",
      "/home/porsche/.local/lib/python3.11/site-packages/backtesting/_plotting.py:250: UserWarning: DatetimeFormatter scales now only accept a single format. Using the first provided: '%d %b'\n",
      "  formatter=DatetimeTickFormatter(days=['%d %b', '%a %d'],\n",
      "BokehDeprecationWarning: Passing lists of formats for DatetimeTickFormatter scales was deprecated in Bokeh 3.0. Configure a single string format for each scale\n",
      "/home/porsche/.local/lib/python3.11/site-packages/backtesting/_plotting.py:250: UserWarning: DatetimeFormatter scales now only accept a single format. Using the first provided: '%m/%Y'\n",
      "  formatter=DatetimeTickFormatter(days=['%d %b', '%a %d'],\n",
      "/home/porsche/.local/lib/python3.11/site-packages/backtesting/_plotting.py:659: UserWarning: found multiple competing values for 'toolbar.active_drag' property; using the latest value\n",
      "  fig = gridplot(\n",
      "/home/porsche/.local/lib/python3.11/site-packages/backtesting/_plotting.py:659: UserWarning: found multiple competing values for 'toolbar.active_scroll' property; using the latest value\n",
      "  fig = gridplot(\n"
     ]
    },
    {
     "data": {
      "text/html": [
       "<div style=\"display: table;\"><div style=\"display: table-row;\"><div style=\"display: table-cell;\"><b title=\"bokeh.models.plots.GridPlot\">GridPlot</b>(</div><div style=\"display: table-cell;\">id&nbsp;=&nbsp;'p1824', <span id=\"p1855\" style=\"cursor: pointer;\">&hellip;)</span></div></div><div class=\"p1854\" style=\"display: none;\"><div style=\"display: table-cell;\"></div><div style=\"display: table-cell;\">align&nbsp;=&nbsp;'auto',</div></div><div class=\"p1854\" style=\"display: none;\"><div style=\"display: table-cell;\"></div><div style=\"display: table-cell;\">aspect_ratio&nbsp;=&nbsp;None,</div></div><div class=\"p1854\" style=\"display: none;\"><div style=\"display: table-cell;\"></div><div style=\"display: table-cell;\">children&nbsp;=&nbsp;[(figure(id='p1473', ...), 0, 0), (figure(id='p1570', ...), 1, 0), (figure(id='p1429', ...), 2, 0), (figure(id='p1625', ...), 3, 0), (figure(id='p1720', ...), 4, 0), (figure(id='p1766', ...), 5, 0)],</div></div><div class=\"p1854\" style=\"display: none;\"><div style=\"display: table-cell;\"></div><div style=\"display: table-cell;\">cols&nbsp;=&nbsp;None,</div></div><div class=\"p1854\" style=\"display: none;\"><div style=\"display: table-cell;\"></div><div style=\"display: table-cell;\">context_menu&nbsp;=&nbsp;None,</div></div><div class=\"p1854\" style=\"display: none;\"><div style=\"display: table-cell;\"></div><div style=\"display: table-cell;\">css_classes&nbsp;=&nbsp;[],</div></div><div class=\"p1854\" style=\"display: none;\"><div style=\"display: table-cell;\"></div><div style=\"display: table-cell;\">css_variables&nbsp;=&nbsp;{},</div></div><div class=\"p1854\" style=\"display: none;\"><div style=\"display: table-cell;\"></div><div style=\"display: table-cell;\">disabled&nbsp;=&nbsp;False,</div></div><div class=\"p1854\" style=\"display: none;\"><div style=\"display: table-cell;\"></div><div style=\"display: table-cell;\">elements&nbsp;=&nbsp;[],</div></div><div class=\"p1854\" style=\"display: none;\"><div style=\"display: table-cell;\"></div><div style=\"display: table-cell;\">flow_mode&nbsp;=&nbsp;'block',</div></div><div class=\"p1854\" style=\"display: none;\"><div style=\"display: table-cell;\"></div><div style=\"display: table-cell;\">height&nbsp;=&nbsp;None,</div></div><div class=\"p1854\" style=\"display: none;\"><div style=\"display: table-cell;\"></div><div style=\"display: table-cell;\">height_policy&nbsp;=&nbsp;'auto',</div></div><div class=\"p1854\" style=\"display: none;\"><div style=\"display: table-cell;\"></div><div style=\"display: table-cell;\">js_event_callbacks&nbsp;=&nbsp;{},</div></div><div class=\"p1854\" style=\"display: none;\"><div style=\"display: table-cell;\"></div><div style=\"display: table-cell;\">js_property_callbacks&nbsp;=&nbsp;{},</div></div><div class=\"p1854\" style=\"display: none;\"><div style=\"display: table-cell;\"></div><div style=\"display: table-cell;\">margin&nbsp;=&nbsp;None,</div></div><div class=\"p1854\" style=\"display: none;\"><div style=\"display: table-cell;\"></div><div style=\"display: table-cell;\">max_height&nbsp;=&nbsp;None,</div></div><div class=\"p1854\" style=\"display: none;\"><div style=\"display: table-cell;\"></div><div style=\"display: table-cell;\">max_width&nbsp;=&nbsp;None,</div></div><div class=\"p1854\" style=\"display: none;\"><div style=\"display: table-cell;\"></div><div style=\"display: table-cell;\">min_height&nbsp;=&nbsp;None,</div></div><div class=\"p1854\" style=\"display: none;\"><div style=\"display: table-cell;\"></div><div style=\"display: table-cell;\">min_width&nbsp;=&nbsp;None,</div></div><div class=\"p1854\" style=\"display: none;\"><div style=\"display: table-cell;\"></div><div style=\"display: table-cell;\">name&nbsp;=&nbsp;None,</div></div><div class=\"p1854\" style=\"display: none;\"><div style=\"display: table-cell;\"></div><div style=\"display: table-cell;\">resizable&nbsp;=&nbsp;False,</div></div><div class=\"p1854\" style=\"display: none;\"><div style=\"display: table-cell;\"></div><div style=\"display: table-cell;\">rows&nbsp;=&nbsp;None,</div></div><div class=\"p1854\" style=\"display: none;\"><div style=\"display: table-cell;\"></div><div style=\"display: table-cell;\">sizing_mode&nbsp;=&nbsp;'stretch_width',</div></div><div class=\"p1854\" style=\"display: none;\"><div style=\"display: table-cell;\"></div><div style=\"display: table-cell;\">spacing&nbsp;=&nbsp;0,</div></div><div class=\"p1854\" style=\"display: none;\"><div style=\"display: table-cell;\"></div><div style=\"display: table-cell;\">styles&nbsp;=&nbsp;{},</div></div><div class=\"p1854\" style=\"display: none;\"><div style=\"display: table-cell;\"></div><div style=\"display: table-cell;\">stylesheets&nbsp;=&nbsp;[],</div></div><div class=\"p1854\" style=\"display: none;\"><div style=\"display: table-cell;\"></div><div style=\"display: table-cell;\">subscribed_events&nbsp;=&nbsp;PropertyValueSet(),</div></div><div class=\"p1854\" style=\"display: none;\"><div style=\"display: table-cell;\"></div><div style=\"display: table-cell;\">syncable&nbsp;=&nbsp;True,</div></div><div class=\"p1854\" style=\"display: none;\"><div style=\"display: table-cell;\"></div><div style=\"display: table-cell;\">tags&nbsp;=&nbsp;[],</div></div><div class=\"p1854\" style=\"display: none;\"><div style=\"display: table-cell;\"></div><div style=\"display: table-cell;\">toolbar&nbsp;=&nbsp;Toolbar(id='p1823', ...),</div></div><div class=\"p1854\" style=\"display: none;\"><div style=\"display: table-cell;\"></div><div style=\"display: table-cell;\">toolbar_location&nbsp;=&nbsp;'right',</div></div><div class=\"p1854\" style=\"display: none;\"><div style=\"display: table-cell;\"></div><div style=\"display: table-cell;\">visible&nbsp;=&nbsp;True,</div></div><div class=\"p1854\" style=\"display: none;\"><div style=\"display: table-cell;\"></div><div style=\"display: table-cell;\">width&nbsp;=&nbsp;None,</div></div><div class=\"p1854\" style=\"display: none;\"><div style=\"display: table-cell;\"></div><div style=\"display: table-cell;\">width_policy&nbsp;=&nbsp;'auto')</div></div></div>\n",
       "<script>\n",
       "(function() {\n",
       "  let expanded = false;\n",
       "  const ellipsis = document.getElementById(\"p1855\");\n",
       "  ellipsis.addEventListener(\"click\", function() {\n",
       "    const rows = document.getElementsByClassName(\"p1854\");\n",
       "    for (let i = 0; i < rows.length; i++) {\n",
       "      const el = rows[i];\n",
       "      el.style.display = expanded ? \"none\" : \"table-row\";\n",
       "    }\n",
       "    ellipsis.innerHTML = expanded ? \"&hellip;)\" : \"&lsaquo;&lsaquo;&lsaquo;\";\n",
       "    expanded = !expanded;\n",
       "  });\n",
       "})();\n",
       "</script>\n"
      ],
      "text/plain": [
       "GridPlot(id='p1824', ...)"
      ]
     },
     "execution_count": 9,
     "metadata": {},
     "output_type": "execute_result"
    },
    {
     "name": "stderr",
     "output_type": "stream",
     "text": [
      "/snap/core20/current/lib/x86_64-linux-gnu/libstdc++.so.6: version `GLIBCXX_3.4.29' not found (required by /lib/x86_64-linux-gnu/libproxy.so.1)\n",
      "Failed to load module: /home/porsche/snap/code/common/.cache/gio-modules/libgiolibproxy.so\n"
     ]
    },
    {
     "name": "stdout",
     "output_type": "stream",
     "text": [
      "Opening in existing browser session.\n"
     ]
    }
   ],
   "source": [
    "bt.plot() # type: ignore"
   ]
  }
 ],
 "metadata": {
  "kernelspec": {
   "display_name": "Python 3",
   "language": "python",
   "name": "python3"
  },
  "language_info": {
   "codemirror_mode": {
    "name": "ipython",
    "version": 3
   },
   "file_extension": ".py",
   "mimetype": "text/x-python",
   "name": "python",
   "nbconvert_exporter": "python",
   "pygments_lexer": "ipython3",
   "version": "3.11.6"
  }
 },
 "nbformat": 4,
 "nbformat_minor": 2
}
