{
 "cells": [
  {
   "cell_type": "code",
   "execution_count": null,
   "metadata": {},
   "outputs": [],
   "source": [
    "import numpy as np\n",
    "import pandas as pd\n",
    "import sklearn\n",
    "import cython\n",
    "import talib\n",
    "import bokeh\n",
    "import time\n",
    "\n",
    "\n",
    "from backtesting import Backtest, Strategy\n",
    "from backtesting.lib import crossover\n",
    "from backtesting.test import SMA\n",
    "\n",
    "from sklearn.neighbors import KNeighborsClassifier\n",
    "from sklearn.model_selection import train_test_split\n",
    "\n",
    "from multiprocessing import Pool\n",
    "\n",
    "from Functions import DataReady, KijunSen, GetData"
   ]
  },
  {
   "cell_type": "code",
   "execution_count": null,
   "metadata": {},
   "outputs": [],
   "source": [
    "#GetData"
   ]
  },
  {
   "cell_type": "code",
   "execution_count": null,
   "metadata": {},
   "outputs": [],
   "source": [
    "#data = pd.read_csv(\"/home/porsche/Desktop/Training_data/5minData/ATOMUSDT5min01.csv\")\n",
    "data = pd.read_csv(\"/home/porsche/Desktop/Training_data/5minData/ATOMUSDT/ATOMUSDT5min02.csv\")\n",
    "\n",
    "DataReady(data)"
   ]
  },
  {
   "cell_type": "code",
   "execution_count": null,
   "metadata": {},
   "outputs": [],
   "source": [
    "class WR_PF_40000I_Data02_Sharpe_Short(Strategy):\n",
    "    \n",
    "    # Add variables to the strategy\n",
    "    atr_lenght = 5\n",
    "    times_atr_tp = 10\n",
    "    times_atr_sl = 12\n",
    "    upper_ema_lenght = 67\n",
    "    lower_ema_lenght = 199\n",
    "    stoch_rsi_lenght = 27\n",
    "    kijun_sen_period = 19\n",
    "    kijun_sen_price_range = 4\n",
    "\n",
    "    def init(self):\n",
    "        # Indicator code\n",
    "        self.atr = self.I(talib.ATR, self.data.High, self.data.Low, self.data.Close, self.atr_lenght)\n",
    "        self.ema_upper = self.I(talib.EMA, self.data.Close, self.upper_ema_lenght)\n",
    "        self.ema_lower = self.I(talib.EMA, self.data.Close, self.lower_ema_lenght)\n",
    "        self.stoch_rsi = self.I(talib.STOCHRSI, self.data.Close, self.stoch_rsi_lenght)\n",
    "        self.kijun_sen = self.I(KijunSen, data, self.kijun_sen_period)\n",
    "        self.kijun_sen_to_price = self.data.Close - self.kijun_sen\n",
    "\n",
    "        \n",
    "    def next(self):\n",
    "        if crossover(self.ema_lower, self.ema_upper) and self.kijun_sen_to_price > self.kijun_sen_price_range / 10:\n",
    "            self.sell(sl = self.data.Close + (self.atr*self.times_atr_sl / 10), tp = self.data.Close - (self.atr*self.times_atr_tp / 10), size = 2000)\n",
    "        \n",
    "\n",
    "def do_backtest(Data):\n",
    "\n",
    "    bt = Backtest(data, WR_PF_40000I_Data02_Sharpe_Short, cash = 10000, hedging = True)\n",
    "\n",
    "    stats = bt.run()\n",
    "    bt.plot()\n",
    "    return (stats)\n",
    "\n",
    "def do_optimize(Data):\n",
    "\n",
    "    bt = Backtest(data, WR_PF_40000I_Data02_Sharpe_Short, cash = 10000, hedging = True)\n",
    "\n",
    "    stats = bt.optimize(\n",
    "        random_state = 1,\n",
    "        max_tries = 200,\n",
    "        return_heatmap = True,\n",
    "        method = \"skopt\",\n",
    "        upper_ema_lenght = range(20, 100, 1),\n",
    "        lower_ema_lenght = range(100, 200, 1),\n",
    "        kijun_sen_period = range(10, 40, 1),\n",
    "        times_atr_tp = range(10, 30, 1),\n",
    "        times_atr_sl = range(10, 30, 1),\n",
    "        atr_lenght = range(5, 30, 1),\n",
    "        stoch_rsi_lenght = range(5, 40, 1),\n",
    "        kijun_sen_price_range = range(0, 10, 1),\n",
    "        maximize = \"Sharpe ratio\")\n",
    "    \n",
    "    bt.plot()\n",
    "    return(stats)"
   ]
  },
  {
   "cell_type": "code",
   "execution_count": null,
   "metadata": {},
   "outputs": [],
   "source": [
    "do_optimize(data)"
   ]
  }
 ],
 "metadata": {
  "kernelspec": {
   "display_name": "Python 3",
   "language": "python",
   "name": "python3"
  },
  "language_info": {
   "codemirror_mode": {
    "name": "ipython",
    "version": 3
   },
   "file_extension": ".py",
   "mimetype": "text/x-python",
   "name": "python",
   "nbconvert_exporter": "python",
   "pygments_lexer": "ipython3",
   "version": "3.12.3"
  }
 },
 "nbformat": 4,
 "nbformat_minor": 2
}
