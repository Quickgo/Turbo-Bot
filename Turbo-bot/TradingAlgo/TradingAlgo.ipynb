{
 "cells": [
  {
   "cell_type": "code",
   "execution_count": null,
   "metadata": {},
   "outputs": [],
   "source": [
    "import numpy as np\n",
    "import pandas as pd\n",
    "\n",
    "from ConvertCSV import DataReady\n",
    "from FinRockDataFeeder import PdDataFeeder\n",
    "from FinRockTradingEnv import TradingEnv\n",
    "from FinRockRender import PygameRender\n",
    "from FinRockScaler import ZScoreScaler\n",
    "from FinRockReward import AccountValueChangeReward\n",
    "from Indicators import BolingerBands, SMA, RSI, PSAR, MACD\n",
    "from FinRockMetrics import AccountValue"
   ]
  },
  {
   "cell_type": "code",
   "execution_count": null,
   "metadata": {},
   "outputs": [],
   "source": [
    "df = pd.read_csv(\"/home/zymantas/Desktop/Training_data/5minData/ATOMUSDT5min.csv\")\n",
    "\n",
    "DataReady(df)\n",
    "\n",
    "df = df[:-1000] # leave 1000 for testing"
   ]
  },
  {
   "cell_type": "code",
   "execution_count": null,
   "metadata": {},
   "outputs": [],
   "source": [
    "pd_data_feeder = PdDataFeeder(\n",
    "    df = df,\n",
    "    indicators = [\n",
    "        BolingerBands(data=df, period=20, std=2),\n",
    "    ]\n",
    ")"
   ]
  },
  {
   "cell_type": "code",
   "execution_count": null,
   "metadata": {},
   "outputs": [],
   "source": [
    "env = TradingEnv(\n",
    "    data_feeder = pd_data_feeder,\n",
    "    output_transformer = ZScoreScaler(),\n",
    "    initial_balance = 1000.0,\n",
    "    max_episode_steps = 288,\n",
    "    window_size = 50,\n",
    "    metrics = [\n",
    "        AccountValue()\n",
    "    ]\n",
    ")\n",
    "action_space = env.action_space\n",
    "input_shape = env.observation_space.shape\n",
    "\n",
    "env.save_config()"
   ]
  },
  {
   "cell_type": "code",
   "execution_count": null,
   "metadata": {},
   "outputs": [],
   "source": [
    "pygameRender = PygameRender(frame_rate=288)\n",
    "\n",
    "state, info = env.reset()\n",
    "pygameRender.render(info)\n",
    "rewards = 0.0\n",
    "while True:\n",
    "    # simulate model prediction, now use random action\n",
    "    action = np.random.randint(0, action_space)\n",
    "\n",
    "    state, reward, terminated, truncated, info = env.step(action)\n",
    "    rewards += reward\n",
    "    pygameRender.render(info)\n",
    "\n",
    "    if terminated or truncated:\n",
    "        print(info['states'][-1].account_value, rewards)\n",
    "        rewards = 0.0\n",
    "        state, info = env.reset()\n",
    "        pygameRender.reset()"
   ]
  }
 ],
 "metadata": {
  "kernelspec": {
   "display_name": "Python 3",
   "language": "python",
   "name": "python3"
  },
  "language_info": {
   "codemirror_mode": {
    "name": "ipython",
    "version": 3
   },
   "file_extension": ".py",
   "mimetype": "text/x-python",
   "name": "python",
   "nbconvert_exporter": "python",
   "pygments_lexer": "ipython3",
   "version": "3.10.12"
  }
 },
 "nbformat": 4,
 "nbformat_minor": 2
}
