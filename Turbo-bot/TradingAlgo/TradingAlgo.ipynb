{
 "cells": [
  {
   "cell_type": "code",
   "execution_count": 7,
   "metadata": {},
   "outputs": [],
   "source": [
    "import numpy as np\n",
    "import pandas as pd\n",
    "\n",
    "from ConvertCSV import DataReady\n",
    "from FinRockDataFeeder import PdDataFeeder\n",
    "from FinRockTradingEnv import TradingEnv\n",
    "from FinRockRender import PygameRender\n",
    "from FinRockScaler import ZScoreScaler\n",
    "from FinRockReward import AccountValueChangeReward\n",
    "from Indicators import BolingerBands, SMA, RSI, PSAR, MACD\n",
    "from FinRockMetrics import AccountValue"
   ]
  },
  {
   "cell_type": "code",
   "execution_count": 8,
   "metadata": {},
   "outputs": [
    {
     "name": "stdout",
     "output_type": "stream",
     "text": [
      "                timestamp    open    high     low   close   volume\n",
      "0     2024-03-11 02:00:00  13.190  13.233  13.179  13.219  10036.8\n",
      "1     2024-03-11 02:05:00  13.219  13.276  13.217  13.243  20072.7\n",
      "2     2024-03-11 02:10:00  13.243  13.262  13.201  13.262   8939.3\n",
      "3     2024-03-11 02:15:00  13.262  13.264  13.203  13.205   9896.9\n",
      "4     2024-03-11 02:20:00  13.205  13.209  13.150  13.167   8269.5\n",
      "...                   ...     ...     ...     ...     ...      ...\n",
      "6529  2024-04-02 19:05:00  10.943  11.030  10.931  11.013  22089.6\n",
      "6530  2024-04-02 19:10:00  11.013  11.031  10.992  11.031  16393.6\n",
      "6531  2024-04-02 19:15:00  11.031  11.031  10.950  10.976  10379.1\n",
      "6532  2024-04-02 19:20:00  10.976  10.976  10.920  10.959  12796.1\n",
      "6533  2024-04-02 19:25:00  10.959  10.959  10.939  10.949   2230.7\n",
      "\n",
      "[6534 rows x 6 columns]\n"
     ]
    }
   ],
   "source": [
    "df = pd.read_csv(\"/home/zymantas/Desktop/Training_data/5minData/ATOMUSDT5min.csv\")\n",
    "\n",
    "DataReady(df)\n",
    "\n",
    "df = df[:-1000] # leave 1000 for testing"
   ]
  },
  {
   "cell_type": "code",
   "execution_count": 9,
   "metadata": {},
   "outputs": [],
   "source": [
    "pd_data_feeder = PdDataFeeder(\n",
    "    df = df,\n",
    "    indicators = [\n",
    "        BolingerBands(data=df, period=20, std=2),\n",
    "    ]\n",
    ")"
   ]
  },
  {
   "cell_type": "code",
   "execution_count": 10,
   "metadata": {},
   "outputs": [],
   "source": [
    "env = TradingEnv(\n",
    "    data_feeder = pd_data_feeder,\n",
    "    output_transformer = ZScoreScaler(),\n",
    "    initial_balance = 1000.0,\n",
    "    max_episode_steps = 1000,\n",
    "    window_size = 5,\n",
    "    metrics = [\n",
    "        AccountValue()\n",
    "    ]\n",
    ")\n",
    "action_space = env.action_space\n",
    "input_shape = env.observation_space.shape\n",
    "\n",
    "env.save_config()"
   ]
  },
  {
   "cell_type": "code",
   "execution_count": 11,
   "metadata": {},
   "outputs": [],
   "source": [
    "pygameRender = PygameRender(frame_rate=5)\n",
    "\n",
    "state, info = env.reset()\n",
    "pygameRender.render(info)\n",
    "rewards = 0.0\n",
    "while True:\n",
    "    # simulate model prediction, now use random action\n",
    "    action = np.random.randint(0, action_space)\n",
    "\n",
    "    state, reward, terminated, truncated, info = env.step(action)\n",
    "    rewards += reward\n",
    "    pygameRender.render(info)\n",
    "\n",
    "    if terminated or truncated:\n",
    "        print(info['states'][-1].account_value, rewards)\n",
    "        rewards = 0.0\n",
    "        state, info = env.reset()\n",
    "        pygameRender.reset()"
   ]
  }
 ],
 "metadata": {
  "kernelspec": {
   "display_name": "Python 3",
   "language": "python",
   "name": "python3"
  },
  "language_info": {
   "codemirror_mode": {
    "name": "ipython",
    "version": 3
   },
   "file_extension": ".py",
   "mimetype": "text/x-python",
   "name": "python",
   "nbconvert_exporter": "python",
   "pygments_lexer": "ipython3",
   "version": "3.10.12"
  }
 },
 "nbformat": 4,
 "nbformat_minor": 2
}
