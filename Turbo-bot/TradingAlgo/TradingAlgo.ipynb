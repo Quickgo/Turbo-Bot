{
 "cells": [
  {
   "cell_type": "code",
   "execution_count": null,
   "metadata": {},
   "outputs": [],
   "source": [
    "import numpy as np\n",
    "import pandas as pd\n",
    "import sklearn\n",
    "import cython\n",
    "import talib\n",
    "import bokeh\n",
    "\n",
    "from backtesting import Backtest, Strategy\n",
    "from backtesting.lib import crossover\n",
    "from backtesting.test import SMA\n",
    "\n",
    "from sklearn.neighbors import KNeighborsClassifier\n",
    "from sklearn.model_selection import train_test_split\n",
    "\n",
    "from Functions import DataReady, KijunSen"
   ]
  },
  {
   "cell_type": "code",
   "execution_count": null,
   "metadata": {},
   "outputs": [],
   "source": [
    "data = pd.read_csv(\"/home/porsche/Desktop/Training_data/5minData/ATOMUSDT5min.csv\")\n",
    "\n",
    "DataReady(data)"
   ]
  },
  {
   "cell_type": "code",
   "execution_count": null,
   "metadata": {},
   "outputs": [],
   "source": [
    "class MachineLearningStrategyV2(Strategy):\n",
    "    \n",
    "    # Add variables to the strategy\n",
    "    atr_lenght = 14\n",
    "    times_atr_tp = 3\n",
    "    times_atr_sl = 2\n",
    "    upper_ema_lenght = 50\n",
    "    lower_ema_lenght = 200\n",
    "    stoch_rsi_lenght = 14\n",
    "    kijun_sen_period = 26\n",
    "    kijun_sen_price_range = 2\n",
    "    # 15×5×5×50×50×15×20×10 = 2812500000\n",
    "\n",
    "    def init(self):\n",
    "        # Indicator code\n",
    "        self.atr = self.I(talib.ATR, self.data.High, self.data.Low, self.data.Close, self.atr_lenght)\n",
    "        self.ema_upper = self.I(talib.EMA, self.data.Close, self.upper_ema_lenght)\n",
    "        self.ema_lower = self.I(talib.EMA, self.data.Close, self.lower_ema_lenght)\n",
    "        self.stoch_rsi = self.I(talib.STOCHRSI, self.data.Close, self.stoch_rsi_lenght)\n",
    "        self.kijun_sen = self.I(KijunSen, data, self.kijun_sen_period)\n",
    "        self.kijun_sen_to_price = self.data.Close - self.kijun_sen\n",
    "\n",
    "        \n",
    "    def next(self):\n",
    "        if crossover(self.ema_lower, self.ema_upper) and self.kijun_sen_to_price < self.kijun_sen_price_range / 10:\n",
    "            self.buy(sl = self.data.Close - (self.atr*self.times_atr_sl), tp = self.data.Close + (self.atr*self.times_atr_tp))\n",
    "        \n",
    "\n",
    "    \n",
    "bt = Backtest(data, MachineLearningStrategyV2, cash = 10000)\n",
    "\n",
    "stats = bt.optimize(\n",
    "    method = \"skopt\",\n",
    "    upper_ema_lenght = range(20, 100, 5),\n",
    "    lower_ema_lenght = range(100, 200, 5),\n",
    "    kijun_sen_period = range(10, 40, 1),\n",
    "    times_atr_tp = range(1, 5, 1),\n",
    "    times_atr_sl = range(1, 5, 1),\n",
    "    atr_lenght = range(5, 30, 1),\n",
    "    kijun_sen_price_range = range(0, 10, 1),\n",
    "    maximize = \"Sharpe Ratio\"\n",
    ")\n",
    "\n",
    "print(stats)\n",
    "\n",
    "bt.plot()"
   ]
  }
 ],
 "metadata": {
  "kernelspec": {
   "display_name": "Python 3",
   "language": "python",
   "name": "python3"
  },
  "language_info": {
   "codemirror_mode": {
    "name": "ipython",
    "version": 3
   },
   "file_extension": ".py",
   "mimetype": "text/x-python",
   "name": "python",
   "nbconvert_exporter": "python",
   "pygments_lexer": "ipython3",
   "version": "3.12.3"
  }
 },
 "nbformat": 4,
 "nbformat_minor": 2
}
