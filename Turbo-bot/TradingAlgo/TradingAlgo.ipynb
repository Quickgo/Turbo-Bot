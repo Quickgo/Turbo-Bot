{
 "cells": [
  {
   "cell_type": "code",
   "execution_count": 2,
   "metadata": {},
   "outputs": [
    {
     "ename": "ImportError",
     "evalue": "cannot import name 'SimpleReward' from 'FinRockState' (/home/zymantas/Desktop/TradingAlgo/Turbo-Bot/Turbo-bot/TradingAlgo/FinRockState.py)",
     "output_type": "error",
     "traceback": [
      "\u001b[0;31m---------------------------------------------------------------------------\u001b[0m",
      "\u001b[0;31mImportError\u001b[0m                               Traceback (most recent call last)",
      "Cell \u001b[0;32mIn[2], line 11\u001b[0m\n\u001b[1;32m      9\u001b[0m \u001b[38;5;28;01mfrom\u001b[39;00m \u001b[38;5;21;01mFinRockEnv\u001b[39;00m \u001b[38;5;28;01mimport\u001b[39;00m PygameRender\n\u001b[1;32m     10\u001b[0m \u001b[38;5;28;01mfrom\u001b[39;00m \u001b[38;5;21;01mFinRockMinMax\u001b[39;00m \u001b[38;5;28;01mimport\u001b[39;00m MinMaxScaler\n\u001b[0;32m---> 11\u001b[0m \u001b[38;5;28;01mfrom\u001b[39;00m \u001b[38;5;21;01mFinRockState\u001b[39;00m \u001b[38;5;28;01mimport\u001b[39;00m SimpleReward\n",
      "\u001b[0;31mImportError\u001b[0m: cannot import name 'SimpleReward' from 'FinRockState' (/home/zymantas/Desktop/TradingAlgo/Turbo-Bot/Turbo-bot/TradingAlgo/FinRockState.py)"
     ]
    }
   ],
   "source": [
    "import numpy as np\n",
    "import pandas as pd\n",
    "import pandas_ta as ta\n",
    "import matplotlib as mpl\n",
    "\n",
    "from FinRockConvertCSV import DataReady\n",
    "from FinRockDataFeeder import PdDataFeeder\n",
    "from FinRockTradingEnv import TradingEnv\n",
    "from FinRockEnv import PygameRender\n",
    "from FinRockMinMax import MinMaxScaler\n",
    "from FinRockReward import SimpleReward"
   ]
  },
  {
   "cell_type": "code",
   "execution_count": null,
   "metadata": {},
   "outputs": [],
   "source": [
    "df = pd.read_csv(\"/home/zymantas/Desktop/Training_data/5minData/ATOMUSDT5min.csv\")\n",
    "\n",
    "DataReady(df)\n",
    "\n",
    "pd_data_feeder  = PdDataFeeder(df)"
   ]
  },
  {
   "cell_type": "code",
   "execution_count": null,
   "metadata": {},
   "outputs": [],
   "source": [
    "env = TradingEnv(\n",
    "    data_feeder = pd_data_feeder,\n",
    "    output_transformer = MinMaxScaler(min = pd_data_feeder.min, max = pd_data_feeder.max),\n",
    "    initial_balance = 1000.0,\n",
    "    max_episode_steps = 1000,\n",
    "    window_size = 30,\n",
    "    reward_function = simpleReward\n",
    ")\n",
    "\n",
    "action_space = env.action_space\n",
    "\n",
    "pygameRender = PygameRender(frame_rate = 8)"
   ]
  },
  {
   "cell_type": "code",
   "execution_count": null,
   "metadata": {},
   "outputs": [],
   "source": [
    "state, info = env.reset()\n",
    "pygameRender.render(info)\n",
    "rewards = 0.0\n",
    "\n",
    "while True:\n",
    "    # Simulate model prediction, now use random action\n",
    "    action = np.random.randint(0, action_space)\n",
    "    # 0 action always hold\n",
    "\n",
    "    state, reward, terminated, truncated, info = env.step(action)\n",
    "    rewards += reward\n",
    "    pygameRender.render(info)\n",
    "\n",
    "    if terminated or truncated:\n",
    "        print(info['states'][-1].account_value, rewards)\n",
    "        rewards = 0.0\n",
    "        state, info = env.reset()\n",
    "        pygameRender.reset()"
   ]
  }
 ],
 "metadata": {
  "kernelspec": {
   "display_name": "Python 3",
   "language": "python",
   "name": "python3"
  },
  "language_info": {
   "codemirror_mode": {
    "name": "ipython",
    "version": 3
   },
   "file_extension": ".py",
   "mimetype": "text/x-python",
   "name": "python",
   "nbconvert_exporter": "python",
   "pygments_lexer": "ipython3",
   "version": "3.10.12"
  }
 },
 "nbformat": 4,
 "nbformat_minor": 2
}
